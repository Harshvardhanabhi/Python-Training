{
 "cells": [
  {
   "cell_type": "code",
   "execution_count": null,
   "id": "84cc7fa0-da8f-4b07-ba36-ac21ce08bbaf",
   "metadata": {},
   "outputs": [],
   "source": [
    "import numpy as np\n",
    "\n",
    "# Assuming your CSV file is named 'data.csv' and contains numbers\n",
    "# Example 'data.csv' content:\n",
    "# 1,2,3\n",
    "# 4,5,6\n",
    "# 7,8,9\n",
    "\n",
    "# Load the data, specifying the delimiter (comma for CSV)\n",
    "data_array = np.loadtxt('data.csv', delimiter=',')\n",
    "print(data_array)"
   ]
  },
  {
   "cell_type": "code",
   "execution_count": 3,
   "id": "9a16b297-8630-447f-b130-d86dafc1bf34",
   "metadata": {},
   "outputs": [
    {
     "name": "stdout",
     "output_type": "stream",
     "text": [
      "Original array: [1 2 3 4 5]\n",
      "View array: [1 2 3 4 5]\n",
      "Original array after view modification: [99  2  3  4  5]\n",
      "View array after view modification: [99  2  3  4  5]\n"
     ]
    }
   ],
   "source": [
    "import numpy as np\n",
    "\n",
    "original_array = np.array([1, 2, 3, 4, 5])\n",
    "view_array = original_array.view()\n",
    "\n",
    "print(\"Original array:\", original_array)\n",
    "print(\"View array:\", view_array)\n",
    "\n",
    "# Modify the view\n",
    "view_array[0] = 99\n",
    "\n",
    "print(\"Original array after view modification:\", original_array)\n",
    "print(\"View array after view modification:\", view_array)\n"
   ]
  },
  {
   "cell_type": "code",
   "execution_count": null,
   "id": "3936b525-16ab-44dd-877f-d9549b10e509",
   "metadata": {},
   "outputs": [],
   "source": []
  }
 ],
 "metadata": {
  "kernelspec": {
   "display_name": "Python 3 (ipykernel)",
   "language": "python",
   "name": "python3"
  },
  "language_info": {
   "codemirror_mode": {
    "name": "ipython",
    "version": 3
   },
   "file_extension": ".py",
   "mimetype": "text/x-python",
   "name": "python",
   "nbconvert_exporter": "python",
   "pygments_lexer": "ipython3",
   "version": "3.8.10"
  }
 },
 "nbformat": 4,
 "nbformat_minor": 5
}

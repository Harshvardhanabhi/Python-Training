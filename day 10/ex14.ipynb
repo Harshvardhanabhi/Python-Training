{
 "cells": [
  {
   "cell_type": "code",
   "execution_count": 47,
   "id": "2898d221-34dc-469d-bca8-d473875cc4b8",
   "metadata": {},
   "outputs": [],
   "source": [
    "import pandas as pd\n",
    "import numpy as np"
   ]
  },
  {
   "cell_type": "code",
   "execution_count": 64,
   "id": "4c213eb3-9867-46eb-a5d1-fff97104580e",
   "metadata": {},
   "outputs": [],
   "source": [
    "# 🔹 Exercise 14:\n",
    "#  Write a function using apply() to classify transactions as \"high\", \"medium\", \"low\" based on revenue thresholds.\n"
   ]
  },
  {
   "cell_type": "code",
   "execution_count": 87,
   "id": "46e0c3e0-ce6d-4964-92fc-1f54349e2280",
   "metadata": {},
   "outputs": [],
   "source": [
    "df= pd.DataFrame({\"amount\" :[100,200,150,300,450] })"
   ]
  },
  {
   "cell_type": "code",
   "execution_count": 88,
   "id": "bba2c264-c774-4f65-aa46-2959c0a47f4a",
   "metadata": {},
   "outputs": [
    {
     "data": {
      "text/html": [
       "<div>\n",
       "<style scoped>\n",
       "    .dataframe tbody tr th:only-of-type {\n",
       "        vertical-align: middle;\n",
       "    }\n",
       "\n",
       "    .dataframe tbody tr th {\n",
       "        vertical-align: top;\n",
       "    }\n",
       "\n",
       "    .dataframe thead th {\n",
       "        text-align: right;\n",
       "    }\n",
       "</style>\n",
       "<table border=\"1\" class=\"dataframe\">\n",
       "  <thead>\n",
       "    <tr style=\"text-align: right;\">\n",
       "      <th></th>\n",
       "      <th>amount</th>\n",
       "    </tr>\n",
       "  </thead>\n",
       "  <tbody>\n",
       "    <tr>\n",
       "      <th>0</th>\n",
       "      <td>100</td>\n",
       "    </tr>\n",
       "    <tr>\n",
       "      <th>1</th>\n",
       "      <td>200</td>\n",
       "    </tr>\n",
       "    <tr>\n",
       "      <th>2</th>\n",
       "      <td>150</td>\n",
       "    </tr>\n",
       "    <tr>\n",
       "      <th>3</th>\n",
       "      <td>300</td>\n",
       "    </tr>\n",
       "  </tbody>\n",
       "</table>\n",
       "</div>"
      ],
      "text/plain": [
       "   amount\n",
       "0     100\n",
       "1     200\n",
       "2     150\n",
       "3     300"
      ]
     },
     "execution_count": 88,
     "metadata": {},
     "output_type": "execute_result"
    }
   ],
   "source": [
    "df"
   ]
  },
  {
   "cell_type": "code",
   "execution_count": 97,
   "id": "ea6ac7f1-2dad-460d-8eb4-c6aa4ab08445",
   "metadata": {},
   "outputs": [],
   "source": [
    "def func(x):\n",
    "    if 100<x <=200:\n",
    "     return \"low\"\n",
    "    elif 200<x<=300:\n",
    "     return \"mid\"\n",
    "    else:\n",
    "     return \"high\""
   ]
  },
  {
   "cell_type": "code",
   "execution_count": 98,
   "id": "21181daf-f1a1-4edd-8561-572bdefa5597",
   "metadata": {},
   "outputs": [],
   "source": [
    "df[\"classify\"]= df['amount'].apply(func)"
   ]
  },
  {
   "cell_type": "code",
   "execution_count": 99,
   "id": "0662d8f4-0aac-440b-a394-db864965e9a9",
   "metadata": {},
   "outputs": [
    {
     "name": "stdout",
     "output_type": "stream",
     "text": [
      "   amount classify\n",
      "0     100     high\n",
      "1     200      low\n",
      "2     150      low\n",
      "3     300      mid\n"
     ]
    }
   ],
   "source": [
    "print(df)"
   ]
  },
  {
   "cell_type": "code",
   "execution_count": null,
   "id": "5bcf7792-297a-4fb1-8dd4-f12d4839dec3",
   "metadata": {},
   "outputs": [],
   "source": []
  }
 ],
 "metadata": {
  "kernelspec": {
   "display_name": "Python 3 (ipykernel)",
   "language": "python",
   "name": "python3"
  },
  "language_info": {
   "codemirror_mode": {
    "name": "ipython",
    "version": 3
   },
   "file_extension": ".py",
   "mimetype": "text/x-python",
   "name": "python",
   "nbconvert_exporter": "python",
   "pygments_lexer": "ipython3",
   "version": "3.8.10"
  }
 },
 "nbformat": 4,
 "nbformat_minor": 5
}

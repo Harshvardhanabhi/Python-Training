{
 "cells": [
  {
   "cell_type": "code",
   "execution_count": 33,
   "id": "1e8048d9-1d35-4402-9f3c-92ccb92064df",
   "metadata": {},
   "outputs": [],
   "source": [
    "import pandas as pd\n",
    "sales_data = pd.DataFrame({\n",
    "    'Date': pd.to_datetime(['2025-01-01', '2025-01-01', '2025-01-02', '2025-01-03']),\n",
    "    'Store': ['A', 'B', 'A', 'C'],\n",
    "    'Sales': [100, 150, 120, 80]\n",
    "})"
   ]
  },
  {
   "cell_type": "code",
   "execution_count": 34,
   "id": "fbb168a5-db47-47cc-9c18-f2e8da0cb2ec",
   "metadata": {},
   "outputs": [],
   "source": [
    "weather_data = pd.DataFrame({\n",
    "    'Date': pd.to_datetime(['2025-01-01', '2025-01-02', '2025-01-03', '2025-01-04']),\n",
    "    'Store': ['A', 'A', 'C', 'B'],\n",
    "    'Temperature': [10, 12, 8, 15],\n",
    "    'Precipitation': [0.5, 0.0, 1.2, 0.0]\n",
    "})"
   ]
  },
  {
   "cell_type": "code",
   "execution_count": 37,
   "id": "86532bfd-03c1-4bb8-8899-0ec24f87e910",
   "metadata": {},
   "outputs": [
    {
     "data": {
      "text/plain": [
       "Date     datetime64[ns]\n",
       "Store            object\n",
       "Sales             int64\n",
       "dtype: object"
      ]
     },
     "execution_count": 37,
     "metadata": {},
     "output_type": "execute_result"
    }
   ],
   "source": [
    "sales_data.dtypes"
   ]
  },
  {
   "cell_type": "code",
   "execution_count": 35,
   "id": "4e931378-1700-4d73-8385-1353120c1b3a",
   "metadata": {},
   "outputs": [
    {
     "name": "stdout",
     "output_type": "stream",
     "text": [
      "sales data is \n",
      "         Date Store  Sales\n",
      "0 2025-01-01     A    100\n",
      "1 2025-01-01     B    150\n",
      "2 2025-01-02     A    120\n",
      "3 2025-01-03     C     80\n",
      "weather data is\n",
      "          Date Store  Temperature  Precipitation\n",
      "0 2025-01-01     A           10            0.5\n",
      "1 2025-01-02     A           12            0.0\n",
      "2 2025-01-03     C            8            1.2\n",
      "3 2025-01-04     B           15            0.0\n"
     ]
    }
   ],
   "source": [
    "print(\"sales data is \\n\",sales_data)\n",
    "print(\"weather data is\\n \",weather_data)"
   ]
  },
  {
   "cell_type": "code",
   "execution_count": 29,
   "id": "5a13ea0c-3725-4f12-a605-22fb7ab1cc24",
   "metadata": {},
   "outputs": [],
   "source": [
    "merge_df = weather_data.merge(sales_data , how ='inner' )"
   ]
  },
  {
   "cell_type": "code",
   "execution_count": 30,
   "id": "ced21ec8-32c5-4386-a4e7-ccbac96fc74d",
   "metadata": {},
   "outputs": [
    {
     "data": {
      "text/html": [
       "<div>\n",
       "<style scoped>\n",
       "    .dataframe tbody tr th:only-of-type {\n",
       "        vertical-align: middle;\n",
       "    }\n",
       "\n",
       "    .dataframe tbody tr th {\n",
       "        vertical-align: top;\n",
       "    }\n",
       "\n",
       "    .dataframe thead th {\n",
       "        text-align: right;\n",
       "    }\n",
       "</style>\n",
       "<table border=\"1\" class=\"dataframe\">\n",
       "  <thead>\n",
       "    <tr style=\"text-align: right;\">\n",
       "      <th></th>\n",
       "      <th>Date</th>\n",
       "      <th>Store</th>\n",
       "      <th>Temperature</th>\n",
       "      <th>Precipitation</th>\n",
       "      <th>Sales</th>\n",
       "    </tr>\n",
       "  </thead>\n",
       "  <tbody>\n",
       "    <tr>\n",
       "      <th>0</th>\n",
       "      <td>2025-01-01</td>\n",
       "      <td>A</td>\n",
       "      <td>10</td>\n",
       "      <td>0.5</td>\n",
       "      <td>100</td>\n",
       "    </tr>\n",
       "    <tr>\n",
       "      <th>1</th>\n",
       "      <td>2025-01-02</td>\n",
       "      <td>A</td>\n",
       "      <td>12</td>\n",
       "      <td>0.0</td>\n",
       "      <td>120</td>\n",
       "    </tr>\n",
       "    <tr>\n",
       "      <th>2</th>\n",
       "      <td>2025-01-03</td>\n",
       "      <td>C</td>\n",
       "      <td>8</td>\n",
       "      <td>1.2</td>\n",
       "      <td>80</td>\n",
       "    </tr>\n",
       "  </tbody>\n",
       "</table>\n",
       "</div>"
      ],
      "text/plain": [
       "        Date Store  Temperature  Precipitation  Sales\n",
       "0 2025-01-01     A           10            0.5    100\n",
       "1 2025-01-02     A           12            0.0    120\n",
       "2 2025-01-03     C            8            1.2     80"
      ]
     },
     "execution_count": 30,
     "metadata": {},
     "output_type": "execute_result"
    }
   ],
   "source": [
    "merge_df"
   ]
  },
  {
   "cell_type": "code",
   "execution_count": 44,
   "id": "92ae6374-b0f7-4823-bfec-cd516a65362d",
   "metadata": {},
   "outputs": [],
   "source": [
    "merge_df2 = weather_data.merge(sales_data , how ='inner', on =['Date' , \"Store\" ])"
   ]
  },
  {
   "cell_type": "code",
   "execution_count": 45,
   "id": "2e464064-3e69-4f52-859b-d2e41632338b",
   "metadata": {},
   "outputs": [
    {
     "data": {
      "text/html": [
       "<div>\n",
       "<style scoped>\n",
       "    .dataframe tbody tr th:only-of-type {\n",
       "        vertical-align: middle;\n",
       "    }\n",
       "\n",
       "    .dataframe tbody tr th {\n",
       "        vertical-align: top;\n",
       "    }\n",
       "\n",
       "    .dataframe thead th {\n",
       "        text-align: right;\n",
       "    }\n",
       "</style>\n",
       "<table border=\"1\" class=\"dataframe\">\n",
       "  <thead>\n",
       "    <tr style=\"text-align: right;\">\n",
       "      <th></th>\n",
       "      <th>Date</th>\n",
       "      <th>Store_x</th>\n",
       "      <th>Temperature</th>\n",
       "      <th>Precipitation</th>\n",
       "      <th>Store_y</th>\n",
       "      <th>Sales</th>\n",
       "    </tr>\n",
       "  </thead>\n",
       "  <tbody>\n",
       "    <tr>\n",
       "      <th>0</th>\n",
       "      <td>2025-01-01</td>\n",
       "      <td>A</td>\n",
       "      <td>10</td>\n",
       "      <td>0.5</td>\n",
       "      <td>A</td>\n",
       "      <td>100</td>\n",
       "    </tr>\n",
       "    <tr>\n",
       "      <th>1</th>\n",
       "      <td>2025-01-01</td>\n",
       "      <td>A</td>\n",
       "      <td>10</td>\n",
       "      <td>0.5</td>\n",
       "      <td>B</td>\n",
       "      <td>150</td>\n",
       "    </tr>\n",
       "    <tr>\n",
       "      <th>2</th>\n",
       "      <td>2025-01-02</td>\n",
       "      <td>A</td>\n",
       "      <td>12</td>\n",
       "      <td>0.0</td>\n",
       "      <td>A</td>\n",
       "      <td>120</td>\n",
       "    </tr>\n",
       "    <tr>\n",
       "      <th>3</th>\n",
       "      <td>2025-01-03</td>\n",
       "      <td>C</td>\n",
       "      <td>8</td>\n",
       "      <td>1.2</td>\n",
       "      <td>C</td>\n",
       "      <td>80</td>\n",
       "    </tr>\n",
       "  </tbody>\n",
       "</table>\n",
       "</div>"
      ],
      "text/plain": [
       "        Date Store_x  Temperature  Precipitation Store_y  Sales\n",
       "0 2025-01-01       A           10            0.5       A    100\n",
       "1 2025-01-01       A           10            0.5       B    150\n",
       "2 2025-01-02       A           12            0.0       A    120\n",
       "3 2025-01-03       C            8            1.2       C     80"
      ]
     },
     "execution_count": 45,
     "metadata": {},
     "output_type": "execute_result"
    }
   ],
   "source": [
    "merge_df2"
   ]
  },
  {
   "cell_type": "code",
   "execution_count": null,
   "id": "9550f51b-96d6-4ec6-b9fc-78d86b624234",
   "metadata": {},
   "outputs": [],
   "source": []
  }
 ],
 "metadata": {
  "kernelspec": {
   "display_name": "Python 3 (ipykernel)",
   "language": "python",
   "name": "python3"
  },
  "language_info": {
   "codemirror_mode": {
    "name": "ipython",
    "version": 3
   },
   "file_extension": ".py",
   "mimetype": "text/x-python",
   "name": "python",
   "nbconvert_exporter": "python",
   "pygments_lexer": "ipython3",
   "version": "3.8.10"
  }
 },
 "nbformat": 4,
 "nbformat_minor": 5
}

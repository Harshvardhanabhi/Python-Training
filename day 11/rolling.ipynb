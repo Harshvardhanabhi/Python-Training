{
 "cells": [
  {
   "cell_type": "code",
   "execution_count": 54,
   "id": "9ee07ab6-5b55-4834-9c68-e9caeee88546",
   "metadata": {},
   "outputs": [
    {
     "data": {
      "text/plain": [
       "0    10\n",
       "1    12\n",
       "2    15\n",
       "3    13\n",
       "4    18\n",
       "5    20\n",
       "6    22\n",
       "7    19\n",
       "8    25\n",
       "9    45\n",
       "dtype: int64"
      ]
     },
     "execution_count": 54,
     "metadata": {},
     "output_type": "execute_result"
    }
   ],
   "source": [
    "import pandas as pd\n",
    "\n",
    "data = pd.Series([10, 12, 15, 13, 18, 20, 22, 19, 25,45])\n",
    "rolling_mean_3 = data.rolling(window=3).min()\n",
    "data"
   ]
  },
  {
   "cell_type": "code",
   "execution_count": 55,
   "id": "e2f15039-23f1-4077-8ca9-67ad95bc6506",
   "metadata": {},
   "outputs": [
    {
     "data": {
      "text/plain": [
       "0     NaN\n",
       "1     NaN\n",
       "2    10.0\n",
       "3    12.0\n",
       "4    13.0\n",
       "5    13.0\n",
       "6    18.0\n",
       "7    19.0\n",
       "8    19.0\n",
       "9    19.0\n",
       "dtype: float64"
      ]
     },
     "execution_count": 55,
     "metadata": {},
     "output_type": "execute_result"
    }
   ],
   "source": [
    "rolling_mean_3"
   ]
  },
  {
   "cell_type": "code",
   "execution_count": 68,
   "id": "6fb99e21-9cde-434d-8b9d-54b14f31f131",
   "metadata": {},
   "outputs": [
    {
     "data": {
      "text/plain": [
       "0    10\n",
       "1    12\n",
       "2    15\n",
       "3    13\n",
       "4    18\n",
       "5    20\n",
       "6    22\n",
       "7    19\n",
       "8    25\n",
       "9    45\n",
       "dtype: int64"
      ]
     },
     "execution_count": 68,
     "metadata": {},
     "output_type": "execute_result"
    }
   ],
   "source": [
    "data"
   ]
  },
  {
   "cell_type": "code",
   "execution_count": 74,
   "id": "20ead5dd-c483-4a42-bb67-b560a34b57b2",
   "metadata": {},
   "outputs": [],
   "source": [
    "roll4 = data.rolling(window=3,min_periods=2,center=True).min()\n",
    "roll5= data.rolling(window=3,min_periods=2,step =2,center=True).min()\n"
   ]
  },
  {
   "cell_type": "code",
   "execution_count": 79,
   "id": "00fc47c6-46ce-4351-bd73-07fbe7b1fd9e",
   "metadata": {},
   "outputs": [
    {
     "name": "stdout",
     "output_type": "stream",
     "text": [
      "4 is \n",
      " 0    10.0\n",
      "1    10.0\n",
      "2    12.0\n",
      "3    13.0\n",
      "4    13.0\n",
      "5    18.0\n",
      "6    19.0\n",
      "7    19.0\n",
      "8    19.0\n",
      "9    25.0\n",
      "dtype: float64\n",
      "5 ia \n",
      " 0    10.0\n",
      "2    12.0\n",
      "4    13.0\n",
      "6    19.0\n",
      "8    19.0\n",
      "dtype: float64\n"
     ]
    }
   ],
   "source": [
    "print('4 is \\n' , roll4)\n",
    "print('5 ia \\n' , roll5)"
   ]
  },
  {
   "cell_type": "code",
   "execution_count": 63,
   "id": "603e63ed-ef33-45fd-aaf0-dedd31845f2b",
   "metadata": {},
   "outputs": [
    {
     "data": {
      "text/plain": [
       "0     NaN\n",
       "3    12.0\n",
       "6    18.0\n",
       "9    19.0\n",
       "dtype: float64"
      ]
     },
     "execution_count": 63,
     "metadata": {},
     "output_type": "execute_result"
    }
   ],
   "source": [
    "rol4"
   ]
  },
  {
   "cell_type": "code",
   "execution_count": null,
   "id": "9f703ffd-c3cc-4fa6-bc21-e387c7446a63",
   "metadata": {},
   "outputs": [],
   "source": []
  }
 ],
 "metadata": {
  "kernelspec": {
   "display_name": "Python 3 (ipykernel)",
   "language": "python",
   "name": "python3"
  },
  "language_info": {
   "codemirror_mode": {
    "name": "ipython",
    "version": 3
   },
   "file_extension": ".py",
   "mimetype": "text/x-python",
   "name": "python",
   "nbconvert_exporter": "python",
   "pygments_lexer": "ipython3",
   "version": "3.8.10"
  }
 },
 "nbformat": 4,
 "nbformat_minor": 5
}

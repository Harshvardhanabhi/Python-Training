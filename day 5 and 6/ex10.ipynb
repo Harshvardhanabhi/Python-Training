{
 "cells": [
  {
   "cell_type": "code",
   "execution_count": 1,
   "id": "cf6546c7-733f-41e6-9224-3d62ccdfefbf",
   "metadata": {},
   "outputs": [],
   "source": [
    "import numpy as np"
   ]
  },
  {
   "cell_type": "code",
   "execution_count": 7,
   "id": "7213de91-cc34-4ef1-9b35-1db83ad448e5",
   "metadata": {},
   "outputs": [],
   "source": [
    "a=np.random.randint(100,size=(7,24))"
   ]
  },
  {
   "cell_type": "code",
   "execution_count": 8,
   "id": "3bf2add8-ea2b-4bbe-85c7-a39e95436648",
   "metadata": {},
   "outputs": [
    {
     "data": {
      "text/plain": [
       "array([[10, 88, 84, 30, 30, 70, 70, 66, 50, 36, 60, 47, 17, 45, 99, 52,\n",
       "        31,  4, 34, 29, 60, 92, 69, 57],\n",
       "       [63,  8,  7, 43, 35, 47, 95, 68, 68, 81, 62, 63,  9, 64, 53, 75,\n",
       "        81,  4, 30, 47, 71, 78, 17, 40],\n",
       "       [51, 15, 85, 38, 16, 61, 87, 30, 33, 40, 68, 27, 34, 82, 49, 42,\n",
       "        19,  0, 55, 41, 85, 84, 65, 86],\n",
       "       [29, 68, 49,  5, 90, 39, 75, 93, 93, 22, 38, 43, 65, 60, 70, 61,\n",
       "        87,  8, 46, 80,  4, 91, 23, 80],\n",
       "       [27,  5, 19, 20, 65, 80, 89, 23, 90,  9, 34, 88, 18, 92, 92, 71,\n",
       "         7, 83,  9, 84, 35, 99, 78,  0],\n",
       "       [78, 15, 20, 49, 72, 27, 36, 92, 20, 48, 24, 41, 31, 25, 55, 15,\n",
       "        37,  4, 91, 47, 54, 98, 18, 33],\n",
       "       [86, 44, 67, 33, 63, 56, 63, 31, 63, 69, 95, 13, 41, 22, 81, 10,\n",
       "        13, 42, 72, 26, 48, 57,  3, 81]])"
      ]
     },
     "execution_count": 8,
     "metadata": {},
     "output_type": "execute_result"
    }
   ],
   "source": [
    "a"
   ]
  },
  {
   "cell_type": "code",
   "execution_count": 6,
   "id": "267a0a63-0b82-474b-9b7a-3bdff3ed09a8",
   "metadata": {},
   "outputs": [],
   "source": [
    "arr=np.array([[1],[2],[3],[4],[5],[6],[7]])"
   ]
  },
  {
   "cell_type": "code",
   "execution_count": 14,
   "id": "99c01f3b-5e6b-4966-a049-e424e7292451",
   "metadata": {},
   "outputs": [],
   "source": [
    "new=np.concatenate((arr,a,),axis=1)"
   ]
  },
  {
   "cell_type": "code",
   "execution_count": 15,
   "id": "0663e181-0942-41bc-b8a4-d420f29870ee",
   "metadata": {},
   "outputs": [
    {
     "data": {
      "text/plain": [
       "array([[ 1, 10, 88, 84, 30, 30, 70, 70, 66, 50, 36, 60, 47, 17, 45, 99,\n",
       "        52, 31,  4, 34, 29, 60, 92, 69, 57],\n",
       "       [ 2, 63,  8,  7, 43, 35, 47, 95, 68, 68, 81, 62, 63,  9, 64, 53,\n",
       "        75, 81,  4, 30, 47, 71, 78, 17, 40],\n",
       "       [ 3, 51, 15, 85, 38, 16, 61, 87, 30, 33, 40, 68, 27, 34, 82, 49,\n",
       "        42, 19,  0, 55, 41, 85, 84, 65, 86],\n",
       "       [ 4, 29, 68, 49,  5, 90, 39, 75, 93, 93, 22, 38, 43, 65, 60, 70,\n",
       "        61, 87,  8, 46, 80,  4, 91, 23, 80],\n",
       "       [ 5, 27,  5, 19, 20, 65, 80, 89, 23, 90,  9, 34, 88, 18, 92, 92,\n",
       "        71,  7, 83,  9, 84, 35, 99, 78,  0],\n",
       "       [ 6, 78, 15, 20, 49, 72, 27, 36, 92, 20, 48, 24, 41, 31, 25, 55,\n",
       "        15, 37,  4, 91, 47, 54, 98, 18, 33],\n",
       "       [ 7, 86, 44, 67, 33, 63, 56, 63, 31, 63, 69, 95, 13, 41, 22, 81,\n",
       "        10, 13, 42, 72, 26, 48, 57,  3, 81]])"
      ]
     },
     "execution_count": 15,
     "metadata": {},
     "output_type": "execute_result"
    }
   ],
   "source": [
    "new"
   ]
  },
  {
   "cell_type": "code",
   "execution_count": 16,
   "id": "bb14ff77-3f8b-46a0-9427-6517baa9d665",
   "metadata": {},
   "outputs": [
    {
     "name": "stdout",
     "output_type": "stream",
     "text": [
      "[[ 1 10 88 84 30 30 70 70 66 50 36 60 47 17 45 99 52 31  4 34 29 60 92 69\n",
      "  57]\n",
      " [ 2 63  8  7 43 35 47 95 68 68 81 62 63  9 64 53 75 81  4 30 47 71 78 17\n",
      "  40]\n",
      " [ 3 51 15 85 38 16 61 87 30 33 40 68 27 34 82 49 42 19  0 55 41 85 84 65\n",
      "  86]\n",
      " [ 4 29 68 49  5 90 39 75 93 93 22 38 43 65 60 70 61 87  8 46 80  4 91 23\n",
      "  80]\n",
      " [ 5 27  5 19 20 65 80 89 23 90  9 34 88 18 92 92 71  7 83  9 84 35 99 78\n",
      "   0]\n",
      " [ 6 78 15 20 49 72 27 36 92 20 48 24 41 31 25 55 15 37  4 91 47 54 98 18\n",
      "  33]\n",
      " [ 7 86 44 67 33 63 56 63 31 63 69 95 13 41 22 81 10 13 42 72 26 48 57  3\n",
      "  81]]\n"
     ]
    }
   ],
   "source": [
    "print(new)"
   ]
  },
  {
   "cell_type": "code",
   "execution_count": 17,
   "id": "8f58c761-3bec-4f7a-a2e0-50118a406baa",
   "metadata": {},
   "outputs": [
    {
     "data": {
      "text/plain": [
       "49.86309523809524"
      ]
     },
     "execution_count": 17,
     "metadata": {},
     "output_type": "execute_result"
    }
   ],
   "source": [
    "np.mean(new[:,1:])"
   ]
  },
  {
   "cell_type": "code",
   "execution_count": 19,
   "id": "a8a65c4f-7c9f-4e7d-8f20-415ef31f4ccc",
   "metadata": {},
   "outputs": [
    {
     "data": {
      "text/plain": [
       "array([1230, 1209, 1193, 1319, 1217, 1030, 1179])"
      ]
     },
     "execution_count": 19,
     "metadata": {},
     "output_type": "execute_result"
    }
   ],
   "source": [
    "np.sum(new[:,1:],axis=1)"
   ]
  },
  {
   "cell_type": "code",
   "execution_count": 20,
   "id": "5ffc48fd-2b27-4e58-9cab-ea0d879fd84d",
   "metadata": {},
   "outputs": [
    {
     "data": {
      "text/plain": [
       "array([ 637.10416667,  684.15104167,  653.95659722,  814.28993056,\n",
       "       1226.53993056,  674.32638889,  653.859375  ])"
      ]
     },
     "execution_count": 20,
     "metadata": {},
     "output_type": "execute_result"
    }
   ],
   "source": [
    "np.var(new[:,1:],axis=1)"
   ]
  },
  {
   "cell_type": "code",
   "execution_count": 21,
   "id": "1b7013e2-3e8b-490d-87f5-300fcac515f2",
   "metadata": {},
   "outputs": [
    {
     "data": {
      "text/plain": [
       "array([25.24092246, 26.15628111, 25.5725751 , 28.53576581, 35.0219921 ,\n",
       "       25.96779523, 25.57067412])"
      ]
     },
     "execution_count": 21,
     "metadata": {},
     "output_type": "execute_result"
    }
   ],
   "source": [
    "np.std(new[:,1:],axis=1)"
   ]
  },
  {
   "cell_type": "code",
   "execution_count": 22,
   "id": "9f0d4d54-c862-438e-805c-14d5b3d5c8e0",
   "metadata": {},
   "outputs": [
    {
     "data": {
      "text/plain": [
       "array([51.25      , 50.375     , 49.70833333, 54.95833333, 50.70833333,\n",
       "       42.91666667, 49.125     ])"
      ]
     },
     "execution_count": 22,
     "metadata": {},
     "output_type": "execute_result"
    }
   ],
   "source": [
    "np.mean(new[:,1:],axis=1)"
   ]
  },
  {
   "cell_type": "code",
   "execution_count": null,
   "id": "42f6b413-cb27-493a-a548-915a48c4c9c9",
   "metadata": {},
   "outputs": [],
   "source": []
  }
 ],
 "metadata": {
  "kernelspec": {
   "display_name": "Python 3 (ipykernel)",
   "language": "python",
   "name": "python3"
  },
  "language_info": {
   "codemirror_mode": {
    "name": "ipython",
    "version": 3
   },
   "file_extension": ".py",
   "mimetype": "text/x-python",
   "name": "python",
   "nbconvert_exporter": "python",
   "pygments_lexer": "ipython3",
   "version": "3.8.10"
  }
 },
 "nbformat": 4,
 "nbformat_minor": 5
}

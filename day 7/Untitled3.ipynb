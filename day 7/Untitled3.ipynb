{
 "cells": [
  {
   "cell_type": "code",
   "execution_count": 2,
   "id": "0eabac9c-a04a-4a0a-baa6-48aea157d5ed",
   "metadata": {},
   "outputs": [],
   "source": [
    "import numpy as np\n",
    "raw = np.array([[1,2,np.nan] , [ 4,np.nan,6] , [np.nan,8,9]])"
   ]
  },
  {
   "cell_type": "code",
   "execution_count": 3,
   "id": "528a54be-cb48-4865-8ce8-6c84f3d6fdb6",
   "metadata": {},
   "outputs": [
    {
     "data": {
      "text/plain": [
       "array([[ 1.,  2., nan],\n",
       "       [ 4., nan,  6.],\n",
       "       [nan,  8.,  9.]])"
      ]
     },
     "execution_count": 3,
     "metadata": {},
     "output_type": "execute_result"
    }
   ],
   "source": [
    "raw"
   ]
  },
  {
   "cell_type": "code",
   "execution_count": 4,
   "id": "e2138224-b885-4208-8f08-8edba3673197",
   "metadata": {},
   "outputs": [],
   "source": [
    "mean_value=np.nanmean(raw)"
   ]
  },
  {
   "cell_type": "code",
   "execution_count": 6,
   "id": "f0436a11-fc70-4a0c-b7f4-614175790123",
   "metadata": {},
   "outputs": [
    {
     "data": {
      "text/plain": [
       "5.0"
      ]
     },
     "execution_count": 6,
     "metadata": {},
     "output_type": "execute_result"
    }
   ],
   "source": [
    "mean_value"
   ]
  },
  {
   "cell_type": "code",
   "execution_count": 10,
   "id": "b160b125-90ff-49d8-b2d9-dd24ed835bed",
   "metadata": {},
   "outputs": [],
   "source": [
    "raw[np.isnan(raw)] = mean_value"
   ]
  },
  {
   "cell_type": "code",
   "execution_count": 11,
   "id": "42407928-5e46-44c0-98b7-f876219dda94",
   "metadata": {},
   "outputs": [
    {
     "data": {
      "text/plain": [
       "array([[1., 2., 5.],\n",
       "       [4., 5., 6.],\n",
       "       [5., 8., 9.]])"
      ]
     },
     "execution_count": 11,
     "metadata": {},
     "output_type": "execute_result"
    }
   ],
   "source": [
    "raw"
   ]
  },
  {
   "cell_type": "code",
   "execution_count": 12,
   "id": "74819ec0-6bd6-4670-95ec-71258f74f659",
   "metadata": {},
   "outputs": [
    {
     "data": {
      "text/plain": [
       "1.0"
      ]
     },
     "execution_count": 12,
     "metadata": {},
     "output_type": "execute_result"
    }
   ],
   "source": [
    "np.min(raw)"
   ]
  },
  {
   "cell_type": "code",
   "execution_count": 13,
   "id": "61b7040d-1c42-49ef-ab02-1466b827e13e",
   "metadata": {},
   "outputs": [
    {
     "data": {
      "text/plain": [
       "9.0"
      ]
     },
     "execution_count": 13,
     "metadata": {},
     "output_type": "execute_result"
    }
   ],
   "source": [
    "np.max(raw)"
   ]
  },
  {
   "cell_type": "code",
   "execution_count": 14,
   "id": "4f8f8701-0289-4388-a1c3-78e01a23d789",
   "metadata": {},
   "outputs": [
    {
     "data": {
      "text/plain": [
       "2.4037008503093262"
      ]
     },
     "execution_count": 14,
     "metadata": {},
     "output_type": "execute_result"
    }
   ],
   "source": [
    "np.std(raw)"
   ]
  },
  {
   "cell_type": "code",
   "execution_count": 16,
   "id": "3ba5e728-a371-412e-bba2-f5fd6e2ed4a6",
   "metadata": {},
   "outputs": [],
   "source": [
    "a=np.var(raw)"
   ]
  },
  {
   "cell_type": "code",
   "execution_count": 17,
   "id": "10643bd5-5a9e-4637-9eb1-a2a12e01f128",
   "metadata": {},
   "outputs": [],
   "source": [
    "std=np.sqrt(a)"
   ]
  },
  {
   "cell_type": "code",
   "execution_count": 18,
   "id": "dc636cde-559c-4100-b5db-062f5402bcb3",
   "metadata": {},
   "outputs": [
    {
     "data": {
      "text/plain": [
       "2.4037008503093262"
      ]
     },
     "execution_count": 18,
     "metadata": {},
     "output_type": "execute_result"
    }
   ],
   "source": [
    "std"
   ]
  },
  {
   "cell_type": "code",
   "execution_count": 19,
   "id": "43d96b89-9458-43b3-b5ae-c5cc03cda633",
   "metadata": {},
   "outputs": [],
   "source": [
    "frequency = raw *5/9 +32"
   ]
  },
  {
   "cell_type": "code",
   "execution_count": 20,
   "id": "eccc61b7-c092-48e0-a00b-47f7fbb62092",
   "metadata": {},
   "outputs": [
    {
     "data": {
      "text/plain": [
       "array([[32.55555556, 33.11111111, 34.77777778],\n",
       "       [34.22222222, 34.77777778, 35.33333333],\n",
       "       [34.77777778, 36.44444444, 37.        ]])"
      ]
     },
     "execution_count": 20,
     "metadata": {},
     "output_type": "execute_result"
    }
   ],
   "source": [
    "frequency"
   ]
  },
  {
   "cell_type": "code",
   "execution_count": 21,
   "id": "f994404c-e298-400f-b85e-e357c9e16e36",
   "metadata": {},
   "outputs": [
    {
     "data": {
      "text/plain": [
       "37.0"
      ]
     },
     "execution_count": 21,
     "metadata": {},
     "output_type": "execute_result"
    }
   ],
   "source": [
    "np.max(frequency)"
   ]
  },
  {
   "cell_type": "code",
   "execution_count": 22,
   "id": "23e9cfd0-b9eb-44a3-80a6-70eaa0ce5d46",
   "metadata": {},
   "outputs": [
    {
     "data": {
      "text/plain": [
       "32.55555555555556"
      ]
     },
     "execution_count": 22,
     "metadata": {},
     "output_type": "execute_result"
    }
   ],
   "source": [
    "np.min(frequency)"
   ]
  },
  {
   "cell_type": "code",
   "execution_count": null,
   "id": "388c69b6-71fb-41c5-bfc5-e1cd40c089c0",
   "metadata": {},
   "outputs": [],
   "source": []
  }
 ],
 "metadata": {
  "kernelspec": {
   "display_name": "Python 3 (ipykernel)",
   "language": "python",
   "name": "python3"
  },
  "language_info": {
   "codemirror_mode": {
    "name": "ipython",
    "version": 3
   },
   "file_extension": ".py",
   "mimetype": "text/x-python",
   "name": "python",
   "nbconvert_exporter": "python",
   "pygments_lexer": "ipython3",
   "version": "3.8.10"
  }
 },
 "nbformat": 4,
 "nbformat_minor": 5
}

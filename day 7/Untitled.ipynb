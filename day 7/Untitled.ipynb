{
 "cells": [
  {
   "cell_type": "code",
   "execution_count": 1,
   "id": "53958c77-842b-48aa-bc98-6824dd3aac78",
   "metadata": {},
   "outputs": [],
   "source": [
    "import numpy as np"
   ]
  },
  {
   "cell_type": "code",
   "execution_count": 5,
   "id": "337e4c74-dd92-42d1-ba39-f30f62d0b37d",
   "metadata": {},
   "outputs": [
    {
     "data": {
      "text/plain": [
       "array([[1, 1, 1],\n",
       "       [1, 1, 1]])"
      ]
     },
     "execution_count": 5,
     "metadata": {},
     "output_type": "execute_result"
    }
   ],
   "source": [
    " np.ones((2,3),dtype=int)"
   ]
  },
  {
   "cell_type": "code",
   "execution_count": 13,
   "id": "da34dc9b-6b6d-4bac-a3e9-20222643e0f5",
   "metadata": {},
   "outputs": [
    {
     "data": {
      "text/plain": [
       "array([[0.8517823 , 0.55636054]])"
      ]
     },
     "execution_count": 13,
     "metadata": {},
     "output_type": "execute_result"
    }
   ],
   "source": [
    "np.random.rand(1,2)"
   ]
  },
  {
   "cell_type": "code",
   "execution_count": 17,
   "id": "11ec1e04-8f15-43e5-9ccf-478e3b8c9e73",
   "metadata": {},
   "outputs": [],
   "source": [
    "b=np.random.random((2,2))"
   ]
  },
  {
   "cell_type": "code",
   "execution_count": 22,
   "id": "a545d521-9c45-4043-be7d-84da87735a3d",
   "metadata": {},
   "outputs": [
    {
     "data": {
      "text/plain": [
       "dtype('float64')"
      ]
     },
     "execution_count": 22,
     "metadata": {},
     "output_type": "execute_result"
    }
   ],
   "source": [
    "b.dtype"
   ]
  },
  {
   "cell_type": "code",
   "execution_count": 50,
   "id": "ad116922-2ae0-4dd8-9212-7542789da804",
   "metadata": {},
   "outputs": [],
   "source": [
    "a = np.arange(12).reshape(3, 4)\n",
    "\n",
    "\n",
    "# #array([[ 0,  1,  2,  3],\n",
    "#        [ 4,  5,  6,  7],\n",
    "#        [ 8,  9, 10, 11]])\n",
    "\n",
    "i = np.array([[0, 1],  # indices for the first dim of `a`\n",
    "\n",
    "              [1, 1]])\n",
    "\n",
    "j = np.array([[1, 2],  # indices for the second dim\n",
    "\n",
    "              [2, 3]])"
   ]
  },
  {
   "cell_type": "code",
   "execution_count": 51,
   "id": "0cb0fa42-3deb-4a0d-aa9f-7f3642859a2c",
   "metadata": {},
   "outputs": [
    {
     "data": {
      "text/plain": [
       "array([[ 0,  1,  2,  3],\n",
       "       [ 4,  5,  6,  7],\n",
       "       [ 8,  9, 10, 11]])"
      ]
     },
     "execution_count": 51,
     "metadata": {},
     "output_type": "execute_result"
    }
   ],
   "source": [
    "\n",
    "a"
   ]
  },
  {
   "cell_type": "code",
   "execution_count": 52,
   "id": "47a30b50-7f4a-4da2-944e-9c598a39d6f0",
   "metadata": {},
   "outputs": [
    {
     "data": {
      "text/plain": [
       "array([[0, 1],\n",
       "       [1, 1]])"
      ]
     },
     "execution_count": 52,
     "metadata": {},
     "output_type": "execute_result"
    }
   ],
   "source": [
    "i"
   ]
  },
  {
   "cell_type": "code",
   "execution_count": 53,
   "id": "a46e9c5b-97eb-4b90-8e2c-7168e217ee7b",
   "metadata": {},
   "outputs": [
    {
     "data": {
      "text/plain": [
       "array([[1, 2],\n",
       "       [2, 3]])"
      ]
     },
     "execution_count": 53,
     "metadata": {},
     "output_type": "execute_result"
    }
   ],
   "source": [
    "j"
   ]
  },
  {
   "cell_type": "code",
   "execution_count": 58,
   "id": "aadd1a46-a6bd-4ad3-a1de-f71a854893d5",
   "metadata": {},
   "outputs": [],
   "source": [
    "b=a[i, j].flatten()"
   ]
  },
  {
   "cell_type": "code",
   "execution_count": 60,
   "id": "323551ab-4b2e-4b51-bda3-a99c3386cd0e",
   "metadata": {},
   "outputs": [
    {
     "data": {
      "text/plain": [
       "array([1, 6, 7])"
      ]
     },
     "execution_count": 60,
     "metadata": {},
     "output_type": "execute_result"
    }
   ],
   "source": [
    "np.delete(b,1)"
   ]
  },
  {
   "cell_type": "code",
   "execution_count": 33,
   "id": "5ed5450b-002e-4f3e-a713-1732341c73c0",
   "metadata": {},
   "outputs": [
    {
     "name": "stdout",
     "output_type": "stream",
     "text": [
      "[array([[1, 2],\n",
      "       [3, 4]]), array([[5, 6],\n",
      "       [7, 8]])]\n"
     ]
    }
   ],
   "source": [
    "import numpy as np\n",
    "\n",
    "arr = np.array([[1, 2], [3, 4], [5, 6], [7, 8]])\n",
    "result = np.split(arr, 2, axis=0) # Split along axis 0 (rows) into 2 sub-arrays\n",
    "print(result)\n",
    "# Output: [array([[1, 2], [3, 4]]), array([[5, 6], [7, 8]])]\n"
   ]
  },
  {
   "cell_type": "code",
   "execution_count": 34,
   "id": "44560d8e-a8bb-4c89-9989-8288fce90078",
   "metadata": {},
   "outputs": [
    {
     "data": {
      "text/plain": [
       "array([[1, 2],\n",
       "       [3, 4],\n",
       "       [5, 6],\n",
       "       [7, 8]])"
      ]
     },
     "execution_count": 34,
     "metadata": {},
     "output_type": "execute_result"
    }
   ],
   "source": [
    "arr"
   ]
  },
  {
   "cell_type": "code",
   "execution_count": 61,
   "id": "a5257d28-49f0-4aa2-8bec-014a870ba53d",
   "metadata": {},
   "outputs": [
    {
     "data": {
      "text/plain": [
       "36"
      ]
     },
     "execution_count": 61,
     "metadata": {},
     "output_type": "execute_result"
    }
   ],
   "source": [
    "arr.sum()"
   ]
  },
  {
   "cell_type": "code",
   "execution_count": 66,
   "id": "613c9e18-fe24-45d3-94e1-74db4c773ba9",
   "metadata": {},
   "outputs": [
    {
     "data": {
      "text/plain": [
       "array([[1, 2],\n",
       "       [3, 4],\n",
       "       [5, 6],\n",
       "       [7, 8]])"
      ]
     },
     "execution_count": 66,
     "metadata": {},
     "output_type": "execute_result"
    }
   ],
   "source": [
    "arr.reshape(4,-1)"
   ]
  },
  {
   "cell_type": "code",
   "execution_count": 72,
   "id": "6b22dcaf-22bf-4cb4-b26d-bf2d00a26b5c",
   "metadata": {},
   "outputs": [
    {
     "data": {
      "text/plain": [
       "array([[1, 5, 2, 6],\n",
       "       [3, 7, 4, 8]])"
      ]
     },
     "execution_count": 72,
     "metadata": {},
     "output_type": "execute_result"
    }
   ],
   "source": [
    "arr.reshape(2,-1,order='F')"
   ]
  },
  {
   "cell_type": "code",
   "execution_count": 73,
   "id": "9a72a0f5-a45a-4635-8cf6-52e508ce5700",
   "metadata": {},
   "outputs": [
    {
     "data": {
      "text/plain": [
       "array([1, 4])"
      ]
     },
     "execution_count": 73,
     "metadata": {},
     "output_type": "execute_result"
    }
   ],
   "source": [
    "arr.diagonal()"
   ]
  },
  {
   "cell_type": "code",
   "execution_count": 75,
   "id": "ff84d9f5-0cf6-4ae3-b959-9d03b079ab8c",
   "metadata": {},
   "outputs": [],
   "source": [
    "b=arr[::-1]"
   ]
  },
  {
   "cell_type": "code",
   "execution_count": 76,
   "id": "b5c3c322-d251-4e80-a5ef-febd99e39c5a",
   "metadata": {},
   "outputs": [
    {
     "data": {
      "text/plain": [
       "array([[7, 8],\n",
       "       [5, 6],\n",
       "       [3, 4],\n",
       "       [1, 2]])"
      ]
     },
     "execution_count": 76,
     "metadata": {},
     "output_type": "execute_result"
    }
   ],
   "source": [
    "b"
   ]
  },
  {
   "cell_type": "code",
   "execution_count": 80,
   "id": "66704e1f-6aeb-4ff5-8e5b-cf65218dd362",
   "metadata": {},
   "outputs": [],
   "source": [
    "c=arr.T"
   ]
  },
  {
   "cell_type": "code",
   "execution_count": 81,
   "id": "cfaa887f-83f3-48c0-b9a1-a17b2480f8f3",
   "metadata": {},
   "outputs": [
    {
     "data": {
      "text/plain": [
       "array([[1, 3, 5, 7],\n",
       "       [2, 4, 6, 8]])"
      ]
     },
     "execution_count": 81,
     "metadata": {},
     "output_type": "execute_result"
    }
   ],
   "source": [
    "c"
   ]
  },
  {
   "cell_type": "code",
   "execution_count": 86,
   "id": "b4ecd038-1dae-42e8-8005-ce72b919f217",
   "metadata": {},
   "outputs": [
    {
     "name": "stdout",
     "output_type": "stream",
     "text": [
      "Sorted 1D array: [[0 1 2 8]\n",
      " [4 5 6 8]]\n",
      "Sorted 2D array (default axis):\n",
      " [[ 1  5  2]\n",
      " [ 2  7  5]\n",
      " [ 3 10  7]]\n"
     ]
    }
   ],
   "source": [
    "import numpy as np\n",
    "\n",
    "arr_1d = np.array([[8, 2, 0, 1],[4,5,6,8]])\n",
    "sorted_arr_1d = np.sort(arr_1d,axis=1)\n",
    "print(\"Sorted 1D array:\", sorted_arr_1d)\n",
    "\n",
    "arr_2d = np.array([[3, 10, 2], [1, 5, 7], [2, 7, 5]])\n",
    "sorted_arr_2d = np.sort(arr_2d,axis=0) # Sorts along the last axis (axis=1) by default\n",
    "print(\"Sorted 2D array (default axis):\\n\", sorted_arr_2d)\n"
   ]
  },
  {
   "cell_type": "code",
   "execution_count": 89,
   "id": "82427ca1-ea8b-4732-a7a7-ac0c2aec1802",
   "metadata": {},
   "outputs": [],
   "source": [
    "a=np.arange(30)"
   ]
  },
  {
   "cell_type": "code",
   "execution_count": 94,
   "id": "04c8a091-e840-4706-8029-0a3b276b45ed",
   "metadata": {},
   "outputs": [
    {
     "data": {
      "text/plain": [
       "array([[[ 0,  1,  2,  3,  4],\n",
       "        [ 5,  6,  7,  8,  9]],\n",
       "\n",
       "       [[10, 11, 12, 13, 14],\n",
       "        [15, 16, 17, 18, 19]],\n",
       "\n",
       "       [[20, 21, 22, 23, 24],\n",
       "        [25, 26, 27, 28, 29]]])"
      ]
     },
     "execution_count": 94,
     "metadata": {},
     "output_type": "execute_result"
    }
   ],
   "source": [
    "a.reshape(3,2,5)"
   ]
  },
  {
   "cell_type": "code",
   "execution_count": null,
   "id": "dd008747-5c7d-4c99-bed4-d23a7ba79f5e",
   "metadata": {},
   "outputs": [],
   "source": []
  }
 ],
 "metadata": {
  "kernelspec": {
   "display_name": "Python 3 (ipykernel)",
   "language": "python",
   "name": "python3"
  },
  "language_info": {
   "codemirror_mode": {
    "name": "ipython",
    "version": 3
   },
   "file_extension": ".py",
   "mimetype": "text/x-python",
   "name": "python",
   "nbconvert_exporter": "python",
   "pygments_lexer": "ipython3",
   "version": "3.8.10"
  }
 },
 "nbformat": 4,
 "nbformat_minor": 5
}

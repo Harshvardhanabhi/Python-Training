{
 "cells": [
  {
   "cell_type": "code",
   "execution_count": 2,
   "id": "11e45661-2052-4366-81af-44c790126076",
   "metadata": {},
   "outputs": [],
   "source": [
    "import numpy as np"
   ]
  },
  {
   "cell_type": "code",
   "execution_count": 16,
   "id": "9cb479e4-181b-458b-ae2a-4b92299655c4",
   "metadata": {},
   "outputs": [],
   "source": [
    "a=np.random.randint(100,size=(1000,3))"
   ]
  },
  {
   "cell_type": "code",
   "execution_count": 17,
   "id": "80af2dc5-1786-4e96-9bad-3da8e45cc9f7",
   "metadata": {},
   "outputs": [],
   "source": [
    "start_date = np.datetime64('today', 'D')"
   ]
  },
  {
   "cell_type": "code",
   "execution_count": 29,
   "id": "0f2172ae-faed-41e2-b3f9-c938b5b4f5a9",
   "metadata": {},
   "outputs": [],
   "source": [
    "end_date = np.datetime64('2028-04-10', 'D')"
   ]
  },
  {
   "cell_type": "code",
   "execution_count": 30,
   "id": "1383243b-c661-48b0-ab6b-1fead20da851",
   "metadata": {},
   "outputs": [],
   "source": [
    "daily_dates = np.arange(start_date, end_date, dtype='datetime64[D]').reshape(1000,1)"
   ]
  },
  {
   "cell_type": "code",
   "execution_count": 41,
   "id": "a1ed521b-0a73-4646-8ec5-9a2d126ca1e7",
   "metadata": {},
   "outputs": [
    {
     "data": {
      "text/plain": [
       "array([ 2,  3,  4,  1,  6,  7, 20])"
      ]
     },
     "execution_count": 41,
     "metadata": {},
     "output_type": "execute_result"
    }
   ],
   "source": [
    "arr = np.array([2,3,4,1,6,7,20])\n",
    "arr"
   ]
  },
  {
   "cell_type": "code",
   "execution_count": 42,
   "id": "98188ea9-80d4-4423-abc6-9c7edc0d872f",
   "metadata": {},
   "outputs": [
    {
     "data": {
      "text/plain": [
       "5.986379097073418"
      ]
     },
     "execution_count": 42,
     "metadata": {},
     "output_type": "execute_result"
    }
   ],
   "source": [
    "np.std(arr)"
   ]
  },
  {
   "cell_type": "code",
   "execution_count": 40,
   "id": "dd34157b-910f-4ecb-82a6-bcf2d8567a08",
   "metadata": {},
   "outputs": [
    {
     "data": {
      "text/plain": [
       "(array([6]),)"
      ]
     },
     "execution_count": 40,
     "metadata": {},
     "output_type": "execute_result"
    }
   ],
   "source": [
    "np.where(arr>26)"
   ]
  },
  {
   "cell_type": "code",
   "execution_count": 44,
   "id": "167bb843-b451-4315-8af3-9777e1268044",
   "metadata": {},
   "outputs": [
    {
     "data": {
      "text/plain": [
       "4.0"
      ]
     },
     "execution_count": 44,
     "metadata": {},
     "output_type": "execute_result"
    }
   ],
   "source": [
    "np.median(arr)"
   ]
  },
  {
   "cell_type": "code",
   "execution_count": 45,
   "id": "46c24e58-b581-4298-b4fe-067edb1eb9d4",
   "metadata": {},
   "outputs": [],
   "source": [
    "    import numpy as np\n",
    "    data = np.array([1, 2, 3, 4, 5, 6, 7, 8, 9, 88])\n",
    "    Q1 = np.percentile(data, 25)\n",
    "    Q3 = np.percentile(data, 75)"
   ]
  },
  {
   "cell_type": "code",
   "execution_count": 46,
   "id": "799a7b83-b7d1-4a3d-8d54-802aeab7bea7",
   "metadata": {},
   "outputs": [],
   "source": [
    "    IQR = Q3 - Q1"
   ]
  },
  {
   "cell_type": "code",
   "execution_count": 47,
   "id": "ea2d59d0-9ad5-4121-896c-c05b4079795b",
   "metadata": {},
   "outputs": [
    {
     "data": {
      "text/plain": [
       "4.5"
      ]
     },
     "execution_count": 47,
     "metadata": {},
     "output_type": "execute_result"
    }
   ],
   "source": [
    "IQR"
   ]
  },
  {
   "cell_type": "code",
   "execution_count": 53,
   "id": "451741f6-6060-4ed1-b049-6dd99c306810",
   "metadata": {},
   "outputs": [
    {
     "data": {
      "text/plain": [
       "14.5"
      ]
     },
     "execution_count": 53,
     "metadata": {},
     "output_type": "execute_result"
    }
   ],
   "source": [
    "    lower_fence = Q1 - 1.5 * IQR\n",
    "\n",
    "    upper_fence = Q3 + 1.5 * IQR\n",
    "\n",
    "upper_fence"
   ]
  },
  {
   "cell_type": "code",
   "execution_count": 49,
   "id": "5bc73a13-60e0-4ad4-bc43-60dcc00e2873",
   "metadata": {},
   "outputs": [
    {
     "name": "stdout",
     "output_type": "stream",
     "text": [
      "Outliers using IQR method: [88]\n"
     ]
    }
   ],
   "source": [
    "    outliers_iqr = data[(data < lower_fence) | (data > upper_fence)]\n",
    "    print(\"Outliers using IQR method:\", outliers_iqr)"
   ]
  },
  {
   "cell_type": "code",
   "execution_count": 54,
   "id": "cb917121-807d-4fca-bf00-b112542956c5",
   "metadata": {},
   "outputs": [
    {
     "data": {
      "text/plain": [
       "-3.5"
      ]
     },
     "execution_count": 54,
     "metadata": {},
     "output_type": "execute_result"
    }
   ],
   "source": [
    "lower_fence"
   ]
  },
  {
   "cell_type": "code",
   "execution_count": 56,
   "id": "aa3d78ec-2784-4871-9e33-e6494ee25c2d",
   "metadata": {},
   "outputs": [
    {
     "data": {
      "text/plain": [
       "3.25"
      ]
     },
     "execution_count": 56,
     "metadata": {},
     "output_type": "execute_result"
    }
   ],
   "source": [
    "Q1"
   ]
  },
  {
   "cell_type": "code",
   "execution_count": 57,
   "id": "eaefb8ef-27cf-4ec0-bb42-556803169f7e",
   "metadata": {},
   "outputs": [
    {
     "data": {
      "text/plain": [
       "7.75"
      ]
     },
     "execution_count": 57,
     "metadata": {},
     "output_type": "execute_result"
    }
   ],
   "source": [
    "Q3"
   ]
  },
  {
   "cell_type": "code",
   "execution_count": null,
   "id": "dbacc5c6-ba53-447a-93a2-c0dd2a0b57d4",
   "metadata": {},
   "outputs": [],
   "source": []
  }
 ],
 "metadata": {
  "kernelspec": {
   "display_name": "Python 3 (ipykernel)",
   "language": "python",
   "name": "python3"
  },
  "language_info": {
   "codemirror_mode": {
    "name": "ipython",
    "version": 3
   },
   "file_extension": ".py",
   "mimetype": "text/x-python",
   "name": "python",
   "nbconvert_exporter": "python",
   "pygments_lexer": "ipython3",
   "version": "3.8.10"
  }
 },
 "nbformat": 4,
 "nbformat_minor": 5
}

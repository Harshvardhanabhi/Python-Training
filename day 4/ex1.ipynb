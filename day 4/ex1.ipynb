{
 "cells": [
  {
   "cell_type": "code",
   "execution_count": 3,
   "id": "7829a34e-184e-446a-8a2a-13fcf46c9217",
   "metadata": {},
   "outputs": [],
   "source": [
    "import numpy as np\n",
    "from numpy import random\n",
    "arr=random.randint(50,size=(10,5))"
   ]
  },
  {
   "cell_type": "code",
   "execution_count": 4,
   "id": "207e5233-3eff-429e-9ff5-74b60bb3b47d",
   "metadata": {},
   "outputs": [
    {
     "data": {
      "text/plain": [
       "array([[13, 29,  4, 31, 18],\n",
       "       [ 6, 16, 25, 23, 16],\n",
       "       [24, 28, 13, 19,  5],\n",
       "       [11, 45,  7,  7, 39],\n",
       "       [42,  6,  5, 13, 46],\n",
       "       [33,  3, 30, 28, 30],\n",
       "       [ 6, 17, 22, 44, 12],\n",
       "       [ 8, 34, 18, 38,  1],\n",
       "       [11, 33, 14, 31, 24],\n",
       "       [ 1,  2, 15, 17, 16]])"
      ]
     },
     "execution_count": 4,
     "metadata": {},
     "output_type": "execute_result"
    }
   ],
   "source": [
    "arr"
   ]
  },
  {
   "cell_type": "code",
   "execution_count": null,
   "id": "609d921e-7742-47d1-a1d1-5b73cdc16a77",
   "metadata": {},
   "outputs": [],
   "source": []
  }
 ],
 "metadata": {
  "kernelspec": {
   "display_name": "Python 3 (ipykernel)",
   "language": "python",
   "name": "python3"
  },
  "language_info": {
   "codemirror_mode": {
    "name": "ipython",
    "version": 3
   },
   "file_extension": ".py",
   "mimetype": "text/x-python",
   "name": "python",
   "nbconvert_exporter": "python",
   "pygments_lexer": "ipython3",
   "version": "3.8.10"
  }
 },
 "nbformat": 4,
 "nbformat_minor": 5
}
